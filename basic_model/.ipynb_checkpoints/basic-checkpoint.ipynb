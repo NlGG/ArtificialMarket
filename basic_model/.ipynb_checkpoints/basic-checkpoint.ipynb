{
 "cells": [
  {
   "cell_type": "code",
   "execution_count": 4,
   "metadata": {
    "collapsed": true
   },
   "outputs": [],
   "source": [
    "%matplotlib inline\n",
    "import numpy as np\n",
    "import matplotlib.pyplot as plt\n",
    "import math\n",
    "\n",
    "from basic_artificial_market import ArtificialMarket"
   ]
  },
  {
   "cell_type": "code",
   "execution_count": null,
   "metadata": {
    "collapsed": false
   },
   "outputs": [],
   "source": [
    "import numpy as np\n",
    "import matplotlib.pyplot as plt\n",
    "import math\n",
    "\n",
    "class ArtificialMarket():\n",
    "    def __init__(self, num_player=1000, fdmtl=10000.0, ganma=1, sigma=0.06, P_sigma=30):\n",
    "        self.num_player = num_player\n",
    "        self.random_state = np.random.RandomState()\n",
    "        self.fdmtl = fdmtl\n",
    "        self.sigma = sigma\n",
    "        self.ganma2 = 10000\n",
    "        self.P_sigma = P_sigma\n",
    "    \n",
    "    def weight(self, w_1_max=1, w_2_max=10, w_3_max=1):\n",
    "        num_player = self.num_player\n",
    "        weight_1 = np.zeros(num_player)\n",
    "        weight_2 = np.zeros(num_player)\n",
    "        weight_3 = np.zeros(num_player)\n",
    "        random_state = self.random_state\n",
    "        for i in range(num_player):\n",
    "            weight_1[i] = random_state.uniform()*w_1_max\n",
    "            weight_2[i] = random_state.uniform()*w_2_max\n",
    "            weight_3[i] = random_state.uniform()*w_3_max\n",
    "        weight = [weight_1, weight_2, weight_3]\n",
    "        return weight\n",
    "    \n",
    "    def ganma(self, ganma_max=10000, num_player=None):\n",
    "        random_state = self.random_state\n",
    "        if num_player is None:\n",
    "            num_player = self.num_player\n",
    "        ganma = np.array([])\n",
    "        for i in range(num_player):\n",
    "            ganma = np.append(ganma, int(random_state.uniform(ganma_max)))\n",
    "        return ganma\n",
    "    \n",
    "    def P_t(self, past_data, delta_l, delta_t):\n",
    "        if np.sum(delta_t) <= delta_l:\n",
    "            P_t = past_data[-1]\n",
    "        else: \n",
    "            d = 0\n",
    "            j = 0\n",
    "            while d <= delta_l:\n",
    "                d += delta_t[-j]\n",
    "                j += 1\n",
    "            P_t = past_data[-j]\n",
    "        return P_t\n",
    "    \n",
    "    def r_t_h(self, past_data, P_t, ganma, w_2):\n",
    "        if len(past_data) < ganma:\n",
    "            r_t_h = 0\n",
    "            w_2 = 0\n",
    "        else:\n",
    "            past_data_ganma = past_data[-ganma]\n",
    "            r_t_h = np.log(past_data_ganma/P_t)\n",
    "            #print ganma, len(past_data), past_data[-1], past_data[-20], past_data_ganma\n",
    "        return r_t_h, w_2\n",
    "\n",
    "    def one_market_model(self, w, delta_l=0, past_data=None, delta_t=None, b_limit=None, s_limit=None, delta=1, ganma_max=10):\n",
    "        num_player = self.num_player\n",
    "        sigma = self.sigma\n",
    "        P_sigma = self.P_sigma\n",
    "        P_f = self.fdmtl\n",
    "        \n",
    "        if past_data is None:\n",
    "            past_data = [P_f]\n",
    "        if b_limit is None:\n",
    "            b_limit = []\n",
    "        if s_limit is None:\n",
    "            s_limit = []\n",
    "        if delta_t is None:\n",
    "            delta_t = np.array([])\n",
    "            \n",
    "        P_t_1 = past_data[-1]\n",
    "        w_1 = w[0]\n",
    "        w_2 = w[1]\n",
    "        w_3 = w[2]\n",
    "        \n",
    "        r_t_e = np.zeros(num_player)\n",
    "        \n",
    "        ganma = self.ganma()\n",
    "    \n",
    "        for i in range(num_player):\n",
    "            w_2_i = w_2[i]\n",
    "            \n",
    "            P_t_1 = self.P_t(past_data, delta_l, delta_t)\n",
    "            \n",
    "            #if len(past_data) < ganma[i]:\n",
    "                #r_t_h = np.log10(P_t_1/past_data[0])\n",
    "            #else:\n",
    "                #past_data_ganma = past_data[-ganma[i]]\n",
    "                #r_t_h = np.log10(P_t_1/past_data_ganma)\n",
    "            #r_t_h = self.r_t_h(past_data, P_t_1, ganma[i])\n",
    "            \n",
    "            r_t_h, w_2_i = self.r_t_h(past_data, P_t_1, ganma[i], w_2_i) \n",
    "            \n",
    "            e_t = np.random.normal(0, sigma)\n",
    "            r_t_e[i] = (w_1[i]*np.log(P_f/P_t_1) + w_2_i*r_t_h + w_3[i]*e_t)/(w_1[i] + w_2_i + w_3[i])\n",
    "            print w_2_i\n",
    "            P_e = P_t_1*math.exp(r_t_e[i])\n",
    "            P_o = np.random.normal(P_e, P_sigma)\n",
    "            if P_e > P_o:\n",
    "                P_o = round(P_o, 1)\n",
    "                if len(s_limit) > 0 and np.min(s_limit) < P_o:\n",
    "                    P_t = np.min(s_limit)\n",
    "                    s_limit = np.delete(s_limit, np.argmin(s_limit))\n",
    "                else:\n",
    "                    b_limit = np.append(b_limit, P_o)\n",
    "                    P_t = P_t_1\n",
    "            else:\n",
    "                P_o = round(P_o, 1)+0.1\n",
    "                if len(b_limit) > 0 and np.max(b_limit) > P_o:\n",
    "                    P_t = np.max(b_limit)\n",
    "                    b_limit = np.delete(b_limit, np.argmax(b_limit))\n",
    "                else:\n",
    "                    s_limit = np.append(s_limit, P_o)\n",
    "                    P_t = P_t_1\n",
    "            past_data = np.append(past_data, P_t)\n",
    "            delta_t = np.append(delta_t, np.random.exponential(delta))\n",
    "        return past_data, delta_t, b_limit, s_limit\n",
    "        \n",
    "    def one_market_simulation(self, delta_l=0, t_max=100000):\n",
    "        w = self.weight()\n",
    "        past_data, delta_t, b_limit, s_limit = self.one_market_model(w, delta_l)\n",
    "        t = len(delta_t)\n",
    "        print t_max\n",
    "        while t < t_max:\n",
    "            past_data, delta_t, b_limit, s_limit = self.one_market_model(w, delta_l, past_data, delta_t, b_limit, s_limit)\n",
    "            t = len(delta_t)\n",
    "        return past_data\n",
    "    \n",
    "    def rad(self, past_data, fdmtl=10000.0):\n",
    "        p = 0\n",
    "        for i in range(len(past_data)):\n",
    "            p += math.fabs(float(past_data[i]) - fdmtl)/fdmtl\n",
    "        m = 1.0/float(len(past_data))*p\n",
    "        return m\n",
    "\n",
    "    def agreed_rate(self, past_data, market_order):\n",
    "        print market_order\n",
    "        agreed_rate = float(market_order)/float(len(past_data))\n",
    "        return agreed_rate"
   ]
  },
  {
   "cell_type": "code",
   "execution_count": null,
   "metadata": {
    "collapsed": false
   },
   "outputs": [],
   "source": [
    "AM = ArtificialMarket()\n",
    "past_data = AM.one_market_simulation(0, 10000)"
   ]
  },
  {
   "cell_type": "code",
   "execution_count": 126,
   "metadata": {
    "collapsed": false
   },
   "outputs": [
    {
     "data": {
      "text/plain": [
       "[<matplotlib.lines.Line2D at 0x10de14c50>]"
      ]
     },
     "execution_count": 126,
     "metadata": {},
     "output_type": "execute_result"
    },
    {
     "data": {
      "image/png": "[encoded data removed]",
      "text/plain": [
       "<matplotlib.figure.Figure at 0x11be89890>"
      ]
     },
     "metadata": {},
     "output_type": "display_data"
    }
   ],
   "source": [
    "plt.plot(past_data)"
   ]
  },
  {
   "cell_type": "code",
   "execution_count": 127,
   "metadata": {
    "collapsed": false
   },
   "outputs": [
    {
     "data": {
      "text/plain": [
       "0.007234273314533777"
      ]
     },
     "execution_count": 127,
     "metadata": {},
     "output_type": "execute_result"
    }
   ],
   "source": [
    "AM.rad(past_data)"
   ]
  },
  {
   "cell_type": "markdown",
   "metadata": {
    "collapsed": false
   },
   "source": [
    "# AM = ArtificialMarket(ganma=100)\n",
    "k, t, market_order= AM.one_market_simulation(10, 1)\n",
    "plt.plot(k)\n",
    "AM.rad(k)"
   ]
  },
  {
   "cell_type": "code",
   "execution_count": null,
   "metadata": {
    "collapsed": true
   },
   "outputs": [],
   "source": []
  },
  {
   "cell_type": "code",
   "execution_count": 73,
   "metadata": {
    "collapsed": false
   },
   "outputs": [
    {
     "data": {
      "text/plain": [
       "3066.0"
      ]
     },
     "execution_count": 73,
     "metadata": {},
     "output_type": "execute_result"
    }
   ],
   "source": [
    "AM.ganma()[1]"
   ]
  },
  {
   "cell_type": "code",
   "execution_count": 168,
   "metadata": {
    "collapsed": false
   },
   "outputs": [
    {
     "data": {
      "text/plain": [
       "5068.742341229107"
      ]
     },
     "execution_count": 168,
     "metadata": {},
     "output_type": "execute_result"
    }
   ],
   "source": [
    "np.random.uniform(10000)"
   ]
  },
  {
   "cell_type": "code",
   "execution_count": 14,
   "metadata": {
    "collapsed": false
   },
   "outputs": [
    {
     "data": {
      "text/plain": [
       "2.718281828459045"
      ]
     },
     "execution_count": 14,
     "metadata": {},
     "output_type": "execute_result"
    }
   ],
   "source": [
    "math.exp(1)"
   ]
  },
  {
   "cell_type": "code",
   "execution_count": null,
   "metadata": {
    "collapsed": true
   },
   "outputs": [],
   "source": []
  }
 ],
 "metadata": {
  "kernelspec": {
   "display_name": "Python 2",
   "language": "python",
   "name": "python2"
  },
  "language_info": {
   "codemirror_mode": {
    "name": "ipython",
    "version": 2
   },
   "file_extension": ".py",
   "mimetype": "text/x-python",
   "name": "python",
   "nbconvert_exporter": "python",
   "pygments_lexer": "ipython2",
   "version": "2.7.10"
  }
 },
 "nbformat": 4,
 "nbformat_minor": 0
}
