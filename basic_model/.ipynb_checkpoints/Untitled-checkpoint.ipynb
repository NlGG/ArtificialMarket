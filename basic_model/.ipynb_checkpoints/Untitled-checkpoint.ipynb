{
 "cells": [
  {
   "cell_type": "code",
   "execution_count": 45,
   "metadata": {
    "collapsed": true
   },
   "outputs": [],
   "source": [
    "%matplotlib inline\n",
    "import numpy as np\n",
    "import matplotlib.pyplot as plt\n",
    "import math\n",
    "\n",
    "from basic_artificial_market import ArtificialMarket"
   ]
  },
  {
   "cell_type": "code",
   "execution_count": 91,
   "metadata": {
    "collapsed": true
   },
   "outputs": [],
   "source": [
    "import numpy as np\n",
    "import matplotlib.pyplot as plt\n",
    "import math\n",
    "\n",
    "class ArtificialMarket():\n",
    "    def __init__(self, num_player=1000, fdmtl=10000.0, ganma=10000, sigma=0.06, P_sigma=30):\n",
    "        self.num_player = num_player\n",
    "        self.random_state = np.random.RandomState()\n",
    "        self.weight = self.weight()\n",
    "        self.fdmtl = fdmtl\n",
    "        self.ganma = ganma\n",
    "        self.sigma = sigma\n",
    "        self.P_sigma = P_sigma\n",
    "    \n",
    "    def weight(self, w_1_max=1, w_2_max=10, w_3_max=1):\n",
    "        num_player = self.num_player\n",
    "        weight_1 = np.zeros(num_player)\n",
    "        weight_2 = np.zeros(num_player)\n",
    "        weight_3 = np.zeros(num_player)\n",
    "        random_state = self.random_state\n",
    "        for i in range(num_player):\n",
    "            weight_1[i] = random_state.uniform()*w_1_max\n",
    "            weight_2[i] = random_state.uniform()*w_2_max\n",
    "            weight_3[i] = random_state.uniform()*w_3_max\n",
    "        weight = [weight_1, weight_2, weight_3]\n",
    "        return weight\n",
    "\n",
    "    def one_market_model(self, w, past_data=None, b_limit=None, s_limit=None):\n",
    "        num_player = self.num_player\n",
    "        sigma = self.sigma\n",
    "        P_sigma = self.P_sigma\n",
    "        P_f = self.fdmtl\n",
    "        \n",
    "        if past_data is None:\n",
    "            past_data = [P_f]\n",
    "        if b_limit is None:\n",
    "            b_limit = []\n",
    "        if s_limit is None:\n",
    "            s_limit = []\n",
    "            \n",
    "        P_t_1 = past_data[-1]\n",
    "        w_1 = w[0]\n",
    "        w_2 = w[1]\n",
    "        w_3 = w[2]\n",
    "        ganma = self.ganma\n",
    "        r_t_e = np.zeros(num_player)\n",
    "        \n",
    "            \n",
    "        for i in range(num_player):\n",
    "            P_t_1 = past_data[-1]\n",
    "            if len(past_data) < ganma:\n",
    "                r_t_h = np.log10(P_t_1/np.random.choice(past_data))\n",
    "            else:\n",
    "                past_data_ganma = past_data[-ganma]\n",
    "                r_t_h = np.log10(P_t_1/past_data_ganma)\n",
    "            e_t = np.random.normal(0, sigma)\n",
    "            r_t_e[i] = (w_1[i]*np.log10(P_f/P_t_1) + w_2[i]*r_t_h + w_3[i]*e_t)/(w_1[i] + w_2[i] + w_3[i])\n",
    "            print r_t_h\n",
    "            P_e = P_t_1*math.exp(r_t_e[i])\n",
    "            P_o = np.random.normal(P_e, P_sigma)\n",
    "            if P_e > P_o:\n",
    "                if len(s_limit) > 0 and min(s_limit) < P_o: \n",
    "                    P_t = np.min(s_limit)\n",
    "                    s_limit = np.delete(s_limit, np.argmin(s_limit))\n",
    "                else:\n",
    "                    b_limit = np.append(b_limit, P_o)\n",
    "                    P_t = P_t_1\n",
    "            else:\n",
    "                if len(b_limit) > 0 and max(b_limit) > P_o:\n",
    "                    P_t = np.max(b_limit)\n",
    "                    b_limit = np.delete(b_limit, argmax(b_limit))\n",
    "                else:\n",
    "                    s_limit = np.append(s_limit, P_o)\n",
    "                    P_t = P_t_1\n",
    "            past_data.append(P_t)\n",
    "            print P_t\n",
    "        t = len(past_data)\n",
    "        print b_limit\n",
    "        return t, past_data, b_limit, s_limit\n",
    "        \n",
    "    def one_market_simulation(self, t_max=100000):\n",
    "        w = self.weight\n",
    "        t, past_data, b_limit, s_limit = self.one_market_model(w)\n",
    "        while t < t_max:\n",
    "            t, past_data, b_limit, s_limit = self.one_market_model(w, past_data, b_limit, s_limit)\n",
    "        return past_data\n",
    "    \n",
    "    def two_market_model(self, w, T_A=0.0, T_B=0.0, past_data=None, b_1=None, s_1=None, b_2=None, s_2=None):\n",
    "        w = self.weight\n",
    "        \n",
    "        if b_1 == None and s_1==None and b_2==None and s_2==None:\n",
    "            t1, past_data1, b_limit1, s_limit1 = self.one_market_model(w, past_data=None, b_limit=None, s_limit=None)\n",
    "            t2, past_data2, b_limit2, s_limit2 = self.one_market_model(w, past_data=None, b_limit=None, s_limit=None)\n",
    "        else:\n",
    "            b_limit1, s_limit1, b_limit2, s_limit2 = b_1, s_1, b_2, s_2\n",
    "        \n",
    "        num_player = self.num_player\n",
    "        sigma = self.sigma\n",
    "        P_sigma = self.P_sigma\n",
    "        P_f = self.fdmtl\n",
    "        \n",
    "        if past_data is None:\n",
    "            past_data = [P_f]\n",
    "        \n",
    "        P_t_1 = past_data[-1]\n",
    "        w_1 = w[0]\n",
    "        w_2 = w[1]\n",
    "        w_3 = w[2]\n",
    "        ganma = self.ganma\n",
    "        r_t_e = np.zeros(num_player)\n",
    "        \n",
    "        if len(past_data) < ganma:\n",
    "            r_t_h = np.log10(P_t_1/np.random.choice(past_data))\n",
    "        else:\n",
    "            past_data_ganma = past_data[-ganma:]\n",
    "            r_t_h = np.log10(P_t_1/np.random.choice(past_data))\n",
    "            \n",
    "        for i in range(num_player):\n",
    "            for limit in [b_limit1, b_limit2]:\n",
    "                if limit == []:\n",
    "                    limit.append(0)\n",
    "            for limit in [s_limit1, s_limit2]:\n",
    "                if limit == []:\n",
    "                    limit.append(20000)\n",
    "            b_A, s_A = max(b_limit1), min(s_limit1)\n",
    "            b_B, s_B = max(b_limit2), min(s_limit2)\n",
    "            if T_A+T_B == 0:\n",
    "                W_A = 0.5\n",
    "            else:\n",
    "                W_A = T_A/(T_A+T_B)\n",
    "            W_B = 1.0 - W_A\n",
    "            e_t = np.random.normal(0, sigma)\n",
    "            r_t_e[i] = (w_1[i]*np.log10(P_f/P_t_1) + w_2[i]*r_t_h + w_3[i]*e_t)/(w_1[i] + w_2[i] + w_3[i])\n",
    "            P_e = P_t_1*math.exp(r_t_e[i])\n",
    "            P_o = np.random.normal(P_e, P_sigma)\n",
    "            if P_e > P_o:\n",
    "                if s_A < P_o or s_B < P_o:\n",
    "                    if s_A < s_B:\n",
    "                        P_t = s_A\n",
    "                        s_limit1.remove(s_A)\n",
    "                        T_A += 1.0\n",
    "                    elif s_A == s_B:\n",
    "                        market = np.random.choice(['A', 'B'], [W_A, W_B])\n",
    "                        if market == 'A':\n",
    "                            P_t = s_A\n",
    "                            s_limit1.remove(s_A)\n",
    "                            T_A += 1.0\n",
    "                        else:\n",
    "                            P_t = s_B\n",
    "                            s_limit2.remove(s_B)\n",
    "                            T_B += 1.0       \n",
    "                    else:\n",
    "                        P_t = s_B\n",
    "                        s_limit2.remove(s_B)\n",
    "                        T_B += 1.0              \n",
    "                else:\n",
    "                    market = np.random.choice(['A', 'B'], [W_A, W_B])\n",
    "                    if market == 'A':\n",
    "                        P_t = P_t_1\n",
    "                        b_limit1.append(P_o)\n",
    "                    else:\n",
    "                        P_t = P_t_1\n",
    "                        b_limit2.append(P_o)\n",
    "            else:\n",
    "                if b_A > P_o or b_B > P_o:\n",
    "                    if b_A > b_B:\n",
    "                        P_t = b_A\n",
    "                        b_limit1.remove(b_A)\n",
    "                        T_A += 1.0\n",
    "                    elif s_A == s_B:\n",
    "                        market = np.random.choice(['A', 'B'], [W_A, W_B])\n",
    "                        if market == 'A':\n",
    "                            P_t = b_A\n",
    "                            b_limit1.remove(b_A)\n",
    "                            T_A += 1.0\n",
    "                        else:\n",
    "                            P_t = b_B\n",
    "                            b_limit2.remove(b_B)\n",
    "                            T_B += 1.0       \n",
    "                    else:\n",
    "                        P_t = b_B\n",
    "                        b_limit2.remove(b_B)\n",
    "                        T_B += 1.0              \n",
    "                else:\n",
    "                    market = np.random.choice(['A', 'B'], [W_A, W_B])\n",
    "                    if market == 'A':\n",
    "                        P_t = P_t_1\n",
    "                        s_limit1.append(P_o)\n",
    "                    else:\n",
    "                        P_t = P_t_1\n",
    "                        s_limit2.append(P_o)\n",
    "            past_data.append(P_t)\n",
    "        t = len(past_data)\n",
    "        return t, T_A, T_B, past_data, b_limit1, s_limit1, b_limit2, s_limit2\n",
    "\n",
    "    def two_market_simulation(self, t_max=100000):\n",
    "        w = self.weight\n",
    "        t, T_A, T_B, past_data, b_1, s_1, b_2, s_2 = self.two_market_model(w)\n",
    "        share = []\n",
    "        while t < t_max:\n",
    "            t, T_A, T_B, past_data, b_1, s_1, b_2, s_2 = self.two_market_model(w, T_A, T_B, past_data, b_1, s_1, b_2, s_2)\n",
    "            share.append(T_A/(T_A+T_B))\n",
    "        return past_data, T_A, T_B, share\n",
    "\n",
    "    def plot_share(self, share):\n",
    "        share_B = []\n",
    "        for i in range(len(share)):\n",
    "            share_B.append(1.0-share[i])\n",
    "        plt.plot(share)\n",
    "        plt.plot(share_B)"
   ]
  },
  {
   "cell_type": "code",
   "execution_count": 92,
   "metadata": {
    "collapsed": true
   },
   "outputs": [],
   "source": [
    "AM = ArtificialMarket(ganma=100)"
   ]
  },
  {
   "cell_type": "code",
   "execution_count": 93,
   "metadata": {
    "collapsed": false
   },
   "outputs": [
    {
     "ename": "ValueError",
     "evalue": "The truth value of an array with more than one element is ambiguous. Use a.any() or a.all()",
     "output_type": "error",
     "traceback": [
      "\u001b[0;31m---------------------------------------------------------------------------\u001b[0m",
      "\u001b[0;31mValueError\u001b[0m                                Traceback (most recent call last)",
      "\u001b[0;32m<ipython-input-93-5c08f2eb77d8>\u001b[0m in \u001b[0;36m<module>\u001b[0;34m()\u001b[0m\n\u001b[1;32m      1\u001b[0m \u001b[0mw\u001b[0m \u001b[0;34m=\u001b[0m \u001b[0mAM\u001b[0m\u001b[0;34m.\u001b[0m\u001b[0mweight\u001b[0m\u001b[0;34m\u001b[0m\u001b[0m\n\u001b[0;32m----> 2\u001b[0;31m \u001b[0mt\u001b[0m\u001b[0;34m,\u001b[0m \u001b[0mpast_data\u001b[0m\u001b[0;34m,\u001b[0m \u001b[0mb_limit\u001b[0m\u001b[0;34m,\u001b[0m \u001b[0ms_limit\u001b[0m \u001b[0;34m=\u001b[0m \u001b[0mAM\u001b[0m\u001b[0;34m.\u001b[0m\u001b[0mone_market_model\u001b[0m\u001b[0;34m(\u001b[0m\u001b[0mw\u001b[0m\u001b[0;34m)\u001b[0m\u001b[0;34m\u001b[0m\u001b[0m\n\u001b[0m",
      "\u001b[0;32m<ipython-input-91-27cb0e5ef4d7>\u001b[0m in \u001b[0;36mone_market_model\u001b[0;34m(self, w, past_data, b_limit, s_limit)\u001b[0m\n\u001b[1;32m     57\u001b[0m         \u001b[0;32mfor\u001b[0m \u001b[0mi\u001b[0m \u001b[0;32min\u001b[0m \u001b[0mrange\u001b[0m\u001b[0;34m(\u001b[0m\u001b[0mnum_player\u001b[0m\u001b[0;34m)\u001b[0m\u001b[0;34m:\u001b[0m\u001b[0;34m\u001b[0m\u001b[0m\n\u001b[1;32m     58\u001b[0m             \u001b[0mP_t_1\u001b[0m \u001b[0;34m=\u001b[0m \u001b[0mpast_data\u001b[0m\u001b[0;34m[\u001b[0m\u001b[0;34m-\u001b[0m\u001b[0;36m1\u001b[0m\u001b[0;34m]\u001b[0m\u001b[0;34m\u001b[0m\u001b[0m\n\u001b[0;32m---> 59\u001b[0;31m             \u001b[0;32mif\u001b[0m \u001b[0mlen\u001b[0m\u001b[0;34m(\u001b[0m\u001b[0mpast_data\u001b[0m\u001b[0;34m)\u001b[0m \u001b[0;34m<\u001b[0m \u001b[0mganma\u001b[0m\u001b[0;34m:\u001b[0m\u001b[0;34m\u001b[0m\u001b[0m\n\u001b[0m\u001b[1;32m     60\u001b[0m                 \u001b[0mr_t_h\u001b[0m \u001b[0;34m=\u001b[0m \u001b[0mnp\u001b[0m\u001b[0;34m.\u001b[0m\u001b[0mlog10\u001b[0m\u001b[0;34m(\u001b[0m\u001b[0mP_t_1\u001b[0m\u001b[0;34m/\u001b[0m\u001b[0mnp\u001b[0m\u001b[0;34m.\u001b[0m\u001b[0mrandom\u001b[0m\u001b[0;34m.\u001b[0m\u001b[0mchoice\u001b[0m\u001b[0;34m(\u001b[0m\u001b[0mpast_data\u001b[0m\u001b[0;34m)\u001b[0m\u001b[0;34m)\u001b[0m\u001b[0;34m\u001b[0m\u001b[0m\n\u001b[1;32m     61\u001b[0m             \u001b[0;32melse\u001b[0m\u001b[0;34m:\u001b[0m\u001b[0;34m\u001b[0m\u001b[0m\n",
      "\u001b[0;31mValueError\u001b[0m: The truth value of an array with more than one element is ambiguous. Use a.any() or a.all()"
     ]
    }
   ],
   "source": [
    "w = AM.weight\n",
    "t, past_data, b_limit, s_limit = AM.one_market_model(w)"
   ]
  },
  {
   "cell_type": "code",
   "execution_count": 90,
   "metadata": {
    "collapsed": false
   },
   "outputs": [
    {
     "data": {
      "text/plain": [
       "[<matplotlib.lines.Line2D at 0x10e2c2a50>]"
      ]
     },
     "execution_count": 90,
     "metadata": {},
     "output_type": "execute_result"
    },
    {
     "data": {
      "image/png": "[encoded data removed]",
      "text/plain": [
       "<matplotlib.figure.Figure at 0x10e1c1b10>"
      ]
     },
     "metadata": {},
     "output_type": "display_data"
    }
   ],
   "source": [
    "plt.plot(past_data)"
   ]
  },
  {
   "cell_type": "code",
   "execution_count": 142,
   "metadata": {
    "collapsed": false
   },
   "outputs": [
    {
     "data": {
      "text/plain": [
       "[<matplotlib.lines.Line2D at 0x10fc2ae50>]"
      ]
     },
     "execution_count": 142,
     "metadata": {},
     "output_type": "execute_result"
    },
    {
     "data": {
      "image/png": "[encoded data removed]",
      "text/plain": [
       "<matplotlib.figure.Figure at 0x10ff90b10>"
      ]
     },
     "metadata": {},
     "output_type": "display_data"
    }
   ],
   "source": [
    "past_data = AM.one_market_simulation(50000)\n",
    "plt.plot(past_data)"
   ]
  },
  {
   "cell_type": "code",
   "execution_count": 114,
   "metadata": {
    "collapsed": false
   },
   "outputs": [],
   "source": [
    "past_data2, T_A, T_B, share = AM.two_market_simulation(2)"
   ]
  },
  {
   "cell_type": "code",
   "execution_count": 115,
   "metadata": {
    "collapsed": false
   },
   "outputs": [
    {
     "data": {
      "text/plain": [
       "[<matplotlib.lines.Line2D at 0x10db3c950>]"
      ]
     },
     "execution_count": 115,
     "metadata": {},
     "output_type": "execute_result"
    },
    {
     "data": {
      "image/png": "[encoded data removed]",
      "text/plain": [
       "<matplotlib.figure.Figure at 0x10da28d90>"
      ]
     },
     "metadata": {},
     "output_type": "display_data"
    }
   ],
   "source": [
    "plt.plot(past_data2)"
   ]
  },
  {
   "cell_type": "code",
   "execution_count": 14,
   "metadata": {
    "collapsed": false
   },
   "outputs": [
    {
     "data": {
      "image/png": "[encoded data removed]",
      "text/plain": [
       "<matplotlib.figure.Figure at 0x1066d3b90>"
      ]
     },
     "metadata": {},
     "output_type": "display_data"
    }
   ],
   "source": [
    "AM.plot_share(share)"
   ]
  },
  {
   "cell_type": "code",
   "execution_count": 31,
   "metadata": {
    "collapsed": false
   },
   "outputs": [
    {
     "data": {
      "text/plain": [
       "9986.367058720394"
      ]
     },
     "execution_count": 31,
     "metadata": {},
     "output_type": "execute_result"
    }
   ],
   "source": [
    "past_data2[-1]"
   ]
  },
  {
   "cell_type": "code",
   "execution_count": null,
   "metadata": {
    "collapsed": true
   },
   "outputs": [],
   "source": []
  }
 ],
 "metadata": {
  "kernelspec": {
   "display_name": "Python 2",
   "language": "python",
   "name": "python2"
  },
  "language_info": {
   "codemirror_mode": {
    "name": "ipython",
    "version": 2
   },
   "file_extension": ".py",
   "mimetype": "text/x-python",
   "name": "python",
   "nbconvert_exporter": "python",
   "pygments_lexer": "ipython2",
   "version": "2.7.10"
  }
 },
 "nbformat": 4,
 "nbformat_minor": 0
}
