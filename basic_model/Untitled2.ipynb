{
 "cells": [
  {
   "cell_type": "code",
   "execution_count": 1,
   "metadata": {
    "collapsed": true
   },
   "outputs": [],
   "source": [
    "import numpy as np"
   ]
  },
  {
   "cell_type": "code",
   "execution_count": 88,
   "metadata": {
    "collapsed": false
   },
   "outputs": [],
   "source": [
    "def model(move_cost):\n",
    "    pop_A = 100.0\n",
    "    pop_B = 100.0 \n",
    "    t = 10\n",
    "\n",
    "    for i in range(10):\n",
    "        expect_B = pop_B\n",
    "        cost = 0\n",
    "        after_cost = 0\n",
    "        for j in range(t):\n",
    "            present_value = 500.0/expect_B/pow(1.25, j)\n",
    "            print present_value\n",
    "            cost += 10 - present_value\n",
    "            expect_B = expect_B*0.9 \n",
    "        expect_B = pop_B\n",
    "        for j in range(t):\n",
    "            after_present_value = 500/(pop_A+expect_B)/pow(1.25, j)\n",
    "            after_cost += 10 - after_present_value\n",
    "            expect_B = expect_B*0.9\n",
    "            \n",
    "        print cost , after_cost + move_cost\n",
    "        if cost < after_cost - move_cost:\n",
    "            return t\n",
    "        else:\n",
    "            pop_B = pop_B*0.9\n",
    "            t -= 1"
   ]
  },
  {
   "cell_type": "code",
   "execution_count": 89,
   "metadata": {
    "collapsed": false
   },
   "outputs": [
    {
     "name": "stdout",
     "output_type": "stream",
     "text": [
      "5.0\n",
      "4.44444444444\n",
      "3.95061728395\n",
      "3.51165980796\n",
      "3.12147538485\n",
      "2.77464478653\n",
      "2.46635092136\n",
      "2.1923119301\n",
      "1.94872171564\n",
      "1.73219708057\n",
      "68.8575766446 87.2440865707\n"
     ]
    },
    {
     "data": {
      "text/plain": [
       "10"
      ]
     },
     "execution_count": 89,
     "metadata": {},
     "output_type": "execute_result"
    }
   ],
   "source": [
    "model(0)"
   ]
  },
  {
   "cell_type": "code",
   "execution_count": null,
   "metadata": {
    "collapsed": true
   },
   "outputs": [],
   "source": []
  },
  {
   "cell_type": "code",
   "execution_count": null,
   "metadata": {
    "collapsed": true
   },
   "outputs": [],
   "source": []
  }
 ],
 "metadata": {
  "kernelspec": {
   "display_name": "Python 2",
   "language": "python",
   "name": "python2"
  },
  "language_info": {
   "codemirror_mode": {
    "name": "ipython",
    "version": 2
   },
   "file_extension": ".py",
   "mimetype": "text/x-python",
   "name": "python",
   "nbconvert_exporter": "python",
   "pygments_lexer": "ipython2",
   "version": "2.7.10"
  }
 },
 "nbformat": 4,
 "nbformat_minor": 0
}
